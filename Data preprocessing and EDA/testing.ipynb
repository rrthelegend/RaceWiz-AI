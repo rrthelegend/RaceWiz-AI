{
 "cells": [
  {
   "cell_type": "code",
   "execution_count": 2,
   "metadata": {},
   "outputs": [],
   "source": [
    "import fastf1\n",
    "import pandas as pd"
   ]
  },
  {
   "cell_type": "code",
   "execution_count": 3,
   "metadata": {},
   "outputs": [
    {
     "name": "stderr",
     "output_type": "stream",
     "text": [
      "core           INFO \tLoading data for Australian Grand Prix - Race [v3.4.3]\n",
      "req            INFO \tNo cached data found for session_info. Loading data...\n",
      "_api           INFO \tFetching session info data...\n",
      "req            INFO \tData has been written to cache!\n",
      "req            INFO \tNo cached data found for driver_info. Loading data...\n",
      "_api           INFO \tFetching driver list...\n",
      "req            INFO \tData has been written to cache!\n",
      "req            INFO \tNo cached data found for session_status_data. Loading data...\n",
      "_api           INFO \tFetching session status data...\n",
      "req            INFO \tData has been written to cache!\n",
      "req            INFO \tNo cached data found for lap_count. Loading data...\n",
      "_api           INFO \tFetching lap count data...\n",
      "req            INFO \tData has been written to cache!\n",
      "req            INFO \tNo cached data found for track_status_data. Loading data...\n",
      "_api           INFO \tFetching track status data...\n",
      "req            INFO \tData has been written to cache!\n",
      "req            INFO \tNo cached data found for _extended_timing_data. Loading data...\n",
      "_api           INFO \tFetching timing data...\n",
      "_api           INFO \tParsing timing data...\n",
      "req            INFO \tData has been written to cache!\n",
      "req            INFO \tNo cached data found for timing_app_data. Loading data...\n",
      "_api           INFO \tFetching timing app data...\n",
      "req            INFO \tData has been written to cache!\n",
      "core           INFO \tProcessing timing data...\n",
      "req            INFO \tNo cached data found for car_data. Loading data...\n",
      "_api           INFO \tFetching car data...\n",
      "_api           INFO \tParsing car data...\n",
      "req            INFO \tData has been written to cache!\n",
      "req            INFO \tNo cached data found for position_data. Loading data...\n",
      "_api           INFO \tFetching position data...\n",
      "core        WARNING \tCar position data is unavailable!\n",
      "req            INFO \tNo cached data found for weather_data. Loading data...\n",
      "_api           INFO \tFetching weather data...\n",
      "req            INFO \tData has been written to cache!\n",
      "req            INFO \tNo cached data found for race_control_messages. Loading data...\n",
      "_api           INFO \tFetching race control messages...\n",
      "req            INFO \tData has been written to cache!\n",
      "core           INFO \tFinished loading data for 20 drivers: ['5', '44', '7', '3', '14', '33', '27', '77', '2', '55', '11', '31', '16', '18', '28', '8', '20', '10', '9', '35']\n"
     ]
    },
    {
     "name": "stdout",
     "output_type": "stream",
     "text": [
      "                    Time Driver DriverNumber                LapTime  \\\n",
      "0 0 days 00:08:53.241000    GAS           10 0 days 00:01:45.060000   \n",
      "1 0 days 00:10:26.613000    GAS           10 0 days 00:01:33.372000   \n",
      "2 0 days 00:11:59.474000    GAS           10 0 days 00:01:32.861000   \n",
      "3 0 days 00:13:31.658000    GAS           10 0 days 00:01:32.184000   \n",
      "4 0 days 00:15:03.990000    GAS           10 0 days 00:01:32.332000   \n",
      "\n",
      "   LapNumber  Stint PitOutTime PitInTime            Sector1Time  \\\n",
      "0        1.0    NaN        NaT       NaT                    NaT   \n",
      "1        2.0    1.0        NaT       NaT 0 days 00:00:31.357000   \n",
      "2        3.0    1.0        NaT       NaT 0 days 00:00:31.160000   \n",
      "3        4.0    1.0        NaT       NaT 0 days 00:00:30.835000   \n",
      "4        5.0    1.0        NaT       NaT 0 days 00:00:30.716000   \n",
      "\n",
      "             Sector2Time  ... FreshTyre        Team           LapStartTime  \\\n",
      "0 0 days 00:00:25.495000  ...      True  Toro Rosso 0 days 00:07:07.988000   \n",
      "1 0 days 00:00:24.825000  ...      True  Toro Rosso 0 days 00:08:53.241000   \n",
      "2 0 days 00:00:24.725000  ...      True  Toro Rosso 0 days 00:10:26.613000   \n",
      "3 0 days 00:00:24.730000  ...      True  Toro Rosso 0 days 00:11:59.474000   \n",
      "4 0 days 00:00:24.821000  ...      True  Toro Rosso 0 days 00:13:31.658000   \n",
      "\n",
      "             LapStartDate  TrackStatus  Position  Deleted  DeletedReason  \\\n",
      "0 2018-03-25 05:13:19.169                   17.0    False                  \n",
      "1 2018-03-25 05:15:04.422                   17.0    False                  \n",
      "2 2018-03-25 05:16:37.794                   17.0    False                  \n",
      "3 2018-03-25 05:18:10.655                   17.0    False                  \n",
      "4 2018-03-25 05:19:42.839           21      17.0    False                  \n",
      "\n",
      "  FastF1Generated IsAccurate  \n",
      "0           False      False  \n",
      "1           False      False  \n",
      "2           False      False  \n",
      "3           False      False  \n",
      "4           False       True  \n",
      "\n",
      "[5 rows x 31 columns]\n"
     ]
    }
   ],
   "source": [
    "fastf1.Cache.enable_cache('/Users/rahulrajagopal/Documents/PBL - RaceWiz AI/F1 data extraction')\n",
    "\n",
    "# Example: Load a specific race (2023 Bahrain GP)\n",
    "session = fastf1.get_session(2018, 1, 'R')  # Year, Round, 'R' for Race\n",
    "session.load()\n",
    "\n",
    "# Access lap data\n",
    "laps = session.laps\n",
    "laps.to_csv(\"bahrain_2023_laps.csv\", index=False)  # Optional: Save for reference\n",
    "\n",
    "print(laps.head())"
   ]
  },
  {
   "cell_type": "code",
   "execution_count": null,
   "metadata": {},
   "outputs": [],
   "source": []
  },
  {
   "cell_type": "code",
   "execution_count": 5,
   "metadata": {},
   "outputs": [
    {
     "ename": "KeyError",
     "evalue": "'44'",
     "output_type": "error",
     "traceback": [
      "\u001b[0;31m---------------------------------------------------------------------------\u001b[0m",
      "\u001b[0;31mKeyError\u001b[0m                                  Traceback (most recent call last)",
      "Cell \u001b[0;32mIn[5], line 5\u001b[0m\n\u001b[1;32m      2\u001b[0m driver \u001b[38;5;241m=\u001b[39m laps\u001b[38;5;241m.\u001b[39mpick_driver(\u001b[38;5;124m'\u001b[39m\u001b[38;5;124mHAM\u001b[39m\u001b[38;5;124m'\u001b[39m)  \u001b[38;5;66;03m# Replace 'VER' with driver initials\u001b[39;00m\n\u001b[1;32m      4\u001b[0m \u001b[38;5;66;03m# Get telemetry data\u001b[39;00m\n\u001b[0;32m----> 5\u001b[0m telemetry \u001b[38;5;241m=\u001b[39m \u001b[43mdriver\u001b[49m\u001b[38;5;241;43m.\u001b[39;49m\u001b[43mget_telemetry\u001b[49m\u001b[43m(\u001b[49m\u001b[43m)\u001b[49m\n\u001b[1;32m      6\u001b[0m telemetry\u001b[38;5;241m.\u001b[39mto_csv(\u001b[38;5;124m\"\u001b[39m\u001b[38;5;124mautra HM__telemetry.csv\u001b[39m\u001b[38;5;124m\"\u001b[39m, index\u001b[38;5;241m=\u001b[39m\u001b[38;5;28;01mFalse\u001b[39;00m)\n\u001b[1;32m      8\u001b[0m \u001b[38;5;28mprint\u001b[39m(telemetry\u001b[38;5;241m.\u001b[39mhead())\n",
      "File \u001b[0;32m/Library/Frameworks/Python.framework/Versions/3.12/lib/python3.12/site-packages/fastf1/core.py:2801\u001b[0m, in \u001b[0;36mLaps.get_telemetry\u001b[0;34m(self, frequency)\u001b[0m\n\u001b[1;32m   2769\u001b[0m \u001b[38;5;28;01mdef\u001b[39;00m \u001b[38;5;21mget_telemetry\u001b[39m(\u001b[38;5;28mself\u001b[39m,\n\u001b[1;32m   2770\u001b[0m                   \u001b[38;5;241m*\u001b[39m,\n\u001b[1;32m   2771\u001b[0m                   frequency: Union[\u001b[38;5;28mint\u001b[39m, Literal[\u001b[38;5;124m'\u001b[39m\u001b[38;5;124moriginal\u001b[39m\u001b[38;5;124m'\u001b[39m], \u001b[38;5;28;01mNone\u001b[39;00m] \u001b[38;5;241m=\u001b[39m \u001b[38;5;28;01mNone\u001b[39;00m\n\u001b[1;32m   2772\u001b[0m                   ) \u001b[38;5;241m-\u001b[39m\u001b[38;5;241m>\u001b[39m Telemetry:\n\u001b[1;32m   2773\u001b[0m \u001b[38;5;250m    \u001b[39m\u001b[38;5;124;03m\"\"\"Telemetry data for all laps in `self`\u001b[39;00m\n\u001b[1;32m   2774\u001b[0m \n\u001b[1;32m   2775\u001b[0m \u001b[38;5;124;03m    Telemetry data is the result of merging the returned data from\u001b[39;00m\n\u001b[0;32m   (...)\u001b[0m\n\u001b[1;32m   2799\u001b[0m \u001b[38;5;124;03m        instance of :class:`Telemetry`\u001b[39;00m\n\u001b[1;32m   2800\u001b[0m \u001b[38;5;124;03m    \"\"\"\u001b[39;00m\n\u001b[0;32m-> 2801\u001b[0m     pos_data \u001b[38;5;241m=\u001b[39m \u001b[38;5;28;43mself\u001b[39;49m\u001b[38;5;241;43m.\u001b[39;49m\u001b[43mget_pos_data\u001b[49m\u001b[43m(\u001b[49m\u001b[43mpad\u001b[49m\u001b[38;5;241;43m=\u001b[39;49m\u001b[38;5;241;43m1\u001b[39;49m\u001b[43m,\u001b[49m\u001b[43m \u001b[49m\u001b[43mpad_side\u001b[49m\u001b[38;5;241;43m=\u001b[39;49m\u001b[38;5;124;43m'\u001b[39;49m\u001b[38;5;124;43mboth\u001b[39;49m\u001b[38;5;124;43m'\u001b[39;49m\u001b[43m)\u001b[49m\n\u001b[1;32m   2802\u001b[0m     car_data \u001b[38;5;241m=\u001b[39m \u001b[38;5;28mself\u001b[39m\u001b[38;5;241m.\u001b[39mget_car_data(pad\u001b[38;5;241m=\u001b[39m\u001b[38;5;241m1\u001b[39m, pad_side\u001b[38;5;241m=\u001b[39m\u001b[38;5;124m'\u001b[39m\u001b[38;5;124mboth\u001b[39m\u001b[38;5;124m'\u001b[39m)\n\u001b[1;32m   2804\u001b[0m     \u001b[38;5;66;03m# calculate driver ahead from data without padding to\u001b[39;00m\n\u001b[1;32m   2805\u001b[0m     \u001b[38;5;66;03m# prevent out of bounds errors\u001b[39;00m\n",
      "File \u001b[0;32m/Library/Frameworks/Python.framework/Versions/3.12/lib/python3.12/site-packages/fastf1/core.py:2876\u001b[0m, in \u001b[0;36mLaps.get_pos_data\u001b[0;34m(self, **kwargs)\u001b[0m\n\u001b[1;32m   2873\u001b[0m     \u001b[38;5;28;01mraise\u001b[39;00m \u001b[38;5;167;01mValueError\u001b[39;00m(\u001b[38;5;124m\"\u001b[39m\u001b[38;5;124mCannot slice telemetry because self contains \u001b[39m\u001b[38;5;124m\"\u001b[39m\n\u001b[1;32m   2874\u001b[0m                      \u001b[38;5;124m\"\u001b[39m\u001b[38;5;124mLaps of multiple drivers!\u001b[39m\u001b[38;5;124m\"\u001b[39m)\n\u001b[1;32m   2875\u001b[0m drv_num \u001b[38;5;241m=\u001b[39m drv_num[\u001b[38;5;241m0\u001b[39m]\n\u001b[0;32m-> 2876\u001b[0m pos_data \u001b[38;5;241m=\u001b[39m \u001b[38;5;28;43mself\u001b[39;49m\u001b[38;5;241;43m.\u001b[39;49m\u001b[43msession\u001b[49m\u001b[38;5;241;43m.\u001b[39;49m\u001b[43mpos_data\u001b[49m\u001b[43m[\u001b[49m\u001b[43mdrv_num\u001b[49m\u001b[43m]\u001b[49m \\\n\u001b[1;32m   2877\u001b[0m     \u001b[38;5;241m.\u001b[39mslice_by_lap(\u001b[38;5;28mself\u001b[39m, \u001b[38;5;241m*\u001b[39m\u001b[38;5;241m*\u001b[39mkwargs) \\\n\u001b[1;32m   2878\u001b[0m     \u001b[38;5;241m.\u001b[39mreset_index(drop\u001b[38;5;241m=\u001b[39m\u001b[38;5;28;01mTrue\u001b[39;00m)\n\u001b[1;32m   2879\u001b[0m \u001b[38;5;28;01mreturn\u001b[39;00m pos_data\n",
      "\u001b[0;31mKeyError\u001b[0m: '44'"
     ]
    }
   ],
   "source": [
    "# Select a driver\n",
    "driver = laps.pick_driver('HAM')  \n",
    "\n",
    "# Get telemetry data\n",
    "telemetry = driver.get_telemetry()\n",
    "telemetry.to_csv(\"autra HM__telemetry.csv\", index=False)\n",
    "\n",
    "print(telemetry.head())\n"
   ]
  },
  {
   "cell_type": "code",
   "execution_count": null,
   "metadata": {},
   "outputs": [],
   "source": [
    "driver = laps.pick_driver('HAM')  # Replace 'VER' with driver initials\n",
    "\n",
    "# Get telemetry data\n",
    "telemetry = driver.get_telemetry()\n",
    "telemetry.to_csv(\"bahrain_2018_HAM_telemetry.csv\", index=False)\n",
    "\n",
    "print(telemetry.head())"
   ]
  },
  {
   "cell_type": "code",
   "execution_count": 7,
   "metadata": {},
   "outputs": [
    {
     "name": "stdout",
     "output_type": "stream",
     "text": [
      "                     Date            SessionTime DriverAhead  \\\n",
      "2 2023-03-05 15:03:38.501 0 days 01:02:36.652000               \n",
      "3 2023-03-05 15:03:38.611 0 days 01:02:36.762000               \n",
      "4 2023-03-05 15:03:38.686 0 days 01:02:36.837000               \n",
      "5 2023-03-05 15:03:38.811 0 days 01:02:36.962000               \n",
      "6 2023-03-05 15:03:38.946 0 days 01:02:37.097000               \n",
      "\n",
      "   DistanceToDriverAhead                   Time    RPM  Speed  nGear  \\\n",
      "2               0.155556        0 days 00:00:00  10100      0      1   \n",
      "3               0.155556 0 days 00:00:00.110000  10130      0      1   \n",
      "4               0.155556 0 days 00:00:00.185000   9948      0      1   \n",
      "5               0.155556 0 days 00:00:00.310000   9766      0      1   \n",
      "6               0.155556 0 days 00:00:00.445000   9206      0      1   \n",
      "\n",
      "   Throttle  Brake  DRS         Source  Distance  RelativeDistance   Status  \\\n",
      "2        16  False    1  interpolation  0.000194      6.335004e-10  OnTrack   \n",
      "3        16  False    1            car  0.000000      0.000000e+00  OnTrack   \n",
      "4        16  False    1            pos -0.000268     -8.764883e-10  OnTrack   \n",
      "5        16  False    1            car  0.000000      0.000000e+00  OnTrack   \n",
      "6        16  False    1            pos  0.003325      1.088345e-08  OnTrack   \n",
      "\n",
      "            X            Y           Z  \n",
      "2 -279.999631  3558.983052 -156.999885  \n",
      "3 -279.999617  3558.982418 -156.999881  \n",
      "4 -280.000000  3559.000000 -157.000000  \n",
      "5 -280.001327  3559.060983 -157.000413  \n",
      "6 -280.000000  3559.000000 -157.000000  \n"
     ]
    }
   ],
   "source": [
    "print(telemetry.head())"
   ]
  },
  {
   "cell_type": "code",
   "execution_count": 8,
   "metadata": {},
   "outputs": [
    {
     "ename": "NameError",
     "evalue": "name 'all_laps' is not defined",
     "output_type": "error",
     "traceback": [
      "\u001b[0;31m---------------------------------------------------------------------------\u001b[0m",
      "\u001b[0;31mNameError\u001b[0m                                 Traceback (most recent call last)",
      "Cell \u001b[0;32mIn[8], line 1\u001b[0m\n\u001b[0;32m----> 1\u001b[0m race_laps \u001b[38;5;241m=\u001b[39m \u001b[43mall_laps\u001b[49m[(all_laps[\u001b[38;5;124m'\u001b[39m\u001b[38;5;124mYear\u001b[39m\u001b[38;5;124m'\u001b[39m] \u001b[38;5;241m==\u001b[39m \u001b[38;5;241m2023\u001b[39m) \u001b[38;5;241m&\u001b[39m (all_laps[\u001b[38;5;124m'\u001b[39m\u001b[38;5;124mRound\u001b[39m\u001b[38;5;124m'\u001b[39m] \u001b[38;5;241m==\u001b[39m \u001b[38;5;241m1\u001b[39m)]\n\u001b[1;32m      2\u001b[0m \u001b[38;5;28mprint\u001b[39m(race_laps\u001b[38;5;241m.\u001b[39mhead())\n\u001b[1;32m      4\u001b[0m \u001b[38;5;66;03m# Visualize lap times\u001b[39;00m\n",
      "\u001b[0;31mNameError\u001b[0m: name 'all_laps' is not defined"
     ]
    }
   ],
   "source": [
    "race_laps = all_laps[(all_laps['Year'] == 2023) & (all_laps['Round'] == 1)]\n",
    "print(race_laps.head())\n",
    "\n",
    "# Visualize lap times\n",
    "import matplotlib.pyplot as plt\n",
    "race_laps.groupby('Driver')['LapTime'].plot(legend=True)\n",
    "plt.title(\"Lap Times - 2023 Bahrain GP\")\n",
    "plt.show()\n"
   ]
  },
  {
   "cell_type": "code",
   "execution_count": 5,
   "metadata": {},
   "outputs": [
    {
     "ename": "NameError",
     "evalue": "name 'load_race_data' is not defined",
     "output_type": "error",
     "traceback": [
      "\u001b[0;31m---------------------------------------------------------------------------\u001b[0m",
      "\u001b[0;31mNameError\u001b[0m                                 Traceback (most recent call last)",
      "Cell \u001b[0;32mIn[5], line 1\u001b[0m\n\u001b[0;32m----> 1\u001b[0m laps, telemetry, drivers \u001b[38;5;241m=\u001b[39m \u001b[43mload_race_data\u001b[49m(\u001b[38;5;241m2023\u001b[39m, \u001b[38;5;241m1\u001b[39m)\n\u001b[1;32m      3\u001b[0m \u001b[38;5;66;03m# Convert laps to a Pandas DataFrame\u001b[39;00m\n\u001b[1;32m      4\u001b[0m lap_df \u001b[38;5;241m=\u001b[39m laps\u001b[38;5;241m.\u001b[39mpick_driver(\u001b[38;5;124m'\u001b[39m\u001b[38;5;124mVER\u001b[39m\u001b[38;5;124m'\u001b[39m)\u001b[38;5;241m.\u001b[39mto_pandas()\n",
      "\u001b[0;31mNameError\u001b[0m: name 'load_race_data' is not defined"
     ]
    }
   ],
   "source": [
    "laps, telemetry, drivers = load_race_data(2023, 1)\n",
    "\n",
    "# Convert laps to a Pandas DataFrame\n",
    "lap_df = laps.pick_driver('VER').to_pandas()"
   ]
  }
 ],
 "metadata": {
  "kernelspec": {
   "display_name": "Python 3",
   "language": "python",
   "name": "python3"
  },
  "language_info": {
   "codemirror_mode": {
    "name": "ipython",
    "version": 3
   },
   "file_extension": ".py",
   "mimetype": "text/x-python",
   "name": "python",
   "nbconvert_exporter": "python",
   "pygments_lexer": "ipython3",
   "version": "3.12.5"
  }
 },
 "nbformat": 4,
 "nbformat_minor": 2
}
