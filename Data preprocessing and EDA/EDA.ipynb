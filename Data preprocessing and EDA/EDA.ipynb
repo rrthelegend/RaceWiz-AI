{
 "cells": [
  {
   "cell_type": "code",
   "execution_count": 7,
   "metadata": {},
   "outputs": [],
   "source": [
    "import fastf1\n",
    "import pandas as pd\n",
    "import seaborn as sns \n",
    "import matplotlib.pyplot as plt\n"
   ]
  },
  {
   "cell_type": "code",
   "execution_count": 2,
   "metadata": {},
   "outputs": [
    {
     "name": "stdout",
     "output_type": "stream",
     "text": [
      "Collecting seaborn\n",
      "  Downloading seaborn-0.13.2-py3-none-any.whl.metadata (5.4 kB)\n",
      "Requirement already satisfied: numpy!=1.24.0,>=1.20 in /Library/Frameworks/Python.framework/Versions/3.12/lib/python3.12/site-packages (from seaborn) (2.1.1)\n",
      "Requirement already satisfied: pandas>=1.2 in /Library/Frameworks/Python.framework/Versions/3.12/lib/python3.12/site-packages (from seaborn) (2.2.3)\n",
      "Requirement already satisfied: matplotlib!=3.6.1,>=3.4 in /Library/Frameworks/Python.framework/Versions/3.12/lib/python3.12/site-packages (from seaborn) (3.9.2)\n",
      "Requirement already satisfied: contourpy>=1.0.1 in /Library/Frameworks/Python.framework/Versions/3.12/lib/python3.12/site-packages (from matplotlib!=3.6.1,>=3.4->seaborn) (1.3.0)\n",
      "Requirement already satisfied: cycler>=0.10 in /Library/Frameworks/Python.framework/Versions/3.12/lib/python3.12/site-packages (from matplotlib!=3.6.1,>=3.4->seaborn) (0.12.1)\n",
      "Requirement already satisfied: fonttools>=4.22.0 in /Library/Frameworks/Python.framework/Versions/3.12/lib/python3.12/site-packages (from matplotlib!=3.6.1,>=3.4->seaborn) (4.54.1)\n",
      "Requirement already satisfied: kiwisolver>=1.3.1 in /Library/Frameworks/Python.framework/Versions/3.12/lib/python3.12/site-packages (from matplotlib!=3.6.1,>=3.4->seaborn) (1.4.7)\n",
      "Requirement already satisfied: packaging>=20.0 in /Users/rahulrajagopal/Library/Python/3.12/lib/python/site-packages (from matplotlib!=3.6.1,>=3.4->seaborn) (24.1)\n",
      "Requirement already satisfied: pillow>=8 in /Library/Frameworks/Python.framework/Versions/3.12/lib/python3.12/site-packages (from matplotlib!=3.6.1,>=3.4->seaborn) (11.0.0)\n",
      "Requirement already satisfied: pyparsing>=2.3.1 in /Library/Frameworks/Python.framework/Versions/3.12/lib/python3.12/site-packages (from matplotlib!=3.6.1,>=3.4->seaborn) (3.2.0)\n",
      "Requirement already satisfied: python-dateutil>=2.7 in /Users/rahulrajagopal/Library/Python/3.12/lib/python/site-packages (from matplotlib!=3.6.1,>=3.4->seaborn) (2.9.0.post0)\n",
      "Requirement already satisfied: pytz>=2020.1 in /Library/Frameworks/Python.framework/Versions/3.12/lib/python3.12/site-packages (from pandas>=1.2->seaborn) (2024.2)\n",
      "Requirement already satisfied: tzdata>=2022.7 in /Library/Frameworks/Python.framework/Versions/3.12/lib/python3.12/site-packages (from pandas>=1.2->seaborn) (2024.2)\n",
      "Requirement already satisfied: six>=1.5 in /Users/rahulrajagopal/Library/Python/3.12/lib/python/site-packages (from python-dateutil>=2.7->matplotlib!=3.6.1,>=3.4->seaborn) (1.16.0)\n",
      "Downloading seaborn-0.13.2-py3-none-any.whl (294 kB)\n",
      "Installing collected packages: seaborn\n",
      "Successfully installed seaborn-0.13.2\n",
      "Note: you may need to restart the kernel to use updated packages.\n"
     ]
    }
   ],
   "source": [
    "pip install seaborn"
   ]
  },
  {
   "cell_type": "code",
   "execution_count": 5,
   "metadata": {},
   "outputs": [
    {
     "name": "stdout",
     "output_type": "stream",
     "text": [
      "  Driver  LapNumber                 LapTime Compound Sector1Time  \\\n",
      "0    GAS        1.0  0 days 00:01:45.060000      NaN         NaN   \n",
      "1    GAS        1.0  0 days 00:01:45.060000      NaN         NaN   \n",
      "2    GAS        1.0  0 days 00:01:45.060000      NaN         NaN   \n",
      "3    GAS        1.0  0 days 00:01:45.060000      NaN         NaN   \n",
      "4    GAS        1.0  0 days 00:01:45.060000      NaN         NaN   \n",
      "\n",
      "              Sector2Time             Sector3Time PitInTime PitOutTime  Year  \\\n",
      "0  0 days 00:00:25.495000  0 days 00:00:37.955000       NaN        NaN  2018   \n",
      "1  0 days 00:00:25.495000  0 days 00:00:37.955000       NaN        NaN  2018   \n",
      "2  0 days 00:00:25.495000  0 days 00:00:37.955000       NaN        NaN  2018   \n",
      "3  0 days 00:00:25.495000  0 days 00:00:37.955000       NaN        NaN  2018   \n",
      "4  0 days 00:00:25.495000  0 days 00:00:37.955000       NaN        NaN  2018   \n",
      "\n",
      "   Round                    Time  AirTemp  Humidity  Pressure  Rainfall  \\\n",
      "0      1  0 days 00:00:57.060000     24.1      36.2     997.1     False   \n",
      "1      1  0 days 00:01:57.078000     24.0      36.3     997.1     False   \n",
      "2      1  0 days 00:02:57.090000     24.0      36.3     997.1     False   \n",
      "3      1  0 days 00:03:57.106000     23.9      37.2     997.0     False   \n",
      "4      1  0 days 00:04:57.121000     24.2      35.8     997.1     False   \n",
      "\n",
      "   TrackTemp  WindDirection  WindSpeed  \n",
      "0       38.2            294        3.0  \n",
      "1       38.6            273        1.4  \n",
      "2       38.6            273        1.4  \n",
      "3       38.7            287        2.3  \n",
      "4       38.7            309        3.5  \n"
     ]
    }
   ],
   "source": [
    "\n",
    "# Load lap time and weather data\n",
    "lap_data = pd.read_csv('lap_data_2018_2024.csv')\n",
    "weather_data = pd.read_csv('weather_data_2018_2024.csv')\n",
    "\n",
    "# Merge on common columns (Year and Round)\n",
    "merged_data = pd.merge(lap_data, weather_data, on=['Year', 'Round'], how='inner')\n",
    "\n",
    "# Save the merged data for further analysis\n",
    "merged_data.to_csv('merged_lap_weather_data.csv', index=False)\n",
    "\n",
    "# Display a sample of the merged dataset\n",
    "print(merged_data.head())\n"
   ]
  },
  {
   "cell_type": "code",
   "execution_count": 6,
   "metadata": {},
   "outputs": [
    {
     "data": {
      "text/html": [
       "<div>\n",
       "<style scoped>\n",
       "    .dataframe tbody tr th:only-of-type {\n",
       "        vertical-align: middle;\n",
       "    }\n",
       "\n",
       "    .dataframe tbody tr th {\n",
       "        vertical-align: top;\n",
       "    }\n",
       "\n",
       "    .dataframe thead th {\n",
       "        text-align: right;\n",
       "    }\n",
       "</style>\n",
       "<table border=\"1\" class=\"dataframe\">\n",
       "  <thead>\n",
       "    <tr style=\"text-align: right;\">\n",
       "      <th></th>\n",
       "      <th>LapNumber</th>\n",
       "      <th>Year</th>\n",
       "      <th>Round</th>\n",
       "      <th>AirTemp</th>\n",
       "      <th>Humidity</th>\n",
       "      <th>Pressure</th>\n",
       "      <th>TrackTemp</th>\n",
       "      <th>WindDirection</th>\n",
       "      <th>WindSpeed</th>\n",
       "    </tr>\n",
       "  </thead>\n",
       "  <tbody>\n",
       "    <tr>\n",
       "      <th>count</th>\n",
       "      <td>2.353929e+07</td>\n",
       "      <td>2.353929e+07</td>\n",
       "      <td>2.353929e+07</td>\n",
       "      <td>2.353929e+07</td>\n",
       "      <td>2.353929e+07</td>\n",
       "      <td>2.353929e+07</td>\n",
       "      <td>2.353929e+07</td>\n",
       "      <td>2.353929e+07</td>\n",
       "      <td>2.353929e+07</td>\n",
       "    </tr>\n",
       "    <tr>\n",
       "      <th>mean</th>\n",
       "      <td>3.055403e+01</td>\n",
       "      <td>2.021315e+03</td>\n",
       "      <td>1.126047e+01</td>\n",
       "      <td>2.364593e+01</td>\n",
       "      <td>5.385058e+01</td>\n",
       "      <td>9.839310e+02</td>\n",
       "      <td>3.591327e+01</td>\n",
       "      <td>1.721162e+02</td>\n",
       "      <td>1.634438e+00</td>\n",
       "    </tr>\n",
       "    <tr>\n",
       "      <th>std</th>\n",
       "      <td>1.847454e+01</td>\n",
       "      <td>1.948417e+00</td>\n",
       "      <td>6.166656e+00</td>\n",
       "      <td>4.795678e+00</td>\n",
       "      <td>1.692486e+01</td>\n",
       "      <td>5.448797e+01</td>\n",
       "      <td>9.014776e+00</td>\n",
       "      <td>1.018911e+02</td>\n",
       "      <td>1.159598e+00</td>\n",
       "    </tr>\n",
       "    <tr>\n",
       "      <th>min</th>\n",
       "      <td>1.000000e+00</td>\n",
       "      <td>2.018000e+03</td>\n",
       "      <td>1.000000e+00</td>\n",
       "      <td>8.900000e+00</td>\n",
       "      <td>5.000000e+00</td>\n",
       "      <td>7.785000e+02</td>\n",
       "      <td>1.380000e+01</td>\n",
       "      <td>0.000000e+00</td>\n",
       "      <td>0.000000e+00</td>\n",
       "    </tr>\n",
       "    <tr>\n",
       "      <th>25%</th>\n",
       "      <td>1.500000e+01</td>\n",
       "      <td>2.020000e+03</td>\n",
       "      <td>6.000000e+00</td>\n",
       "      <td>2.050000e+01</td>\n",
       "      <td>4.100000e+01</td>\n",
       "      <td>9.836000e+02</td>\n",
       "      <td>2.940000e+01</td>\n",
       "      <td>9.400000e+01</td>\n",
       "      <td>8.000000e-01</td>\n",
       "    </tr>\n",
       "    <tr>\n",
       "      <th>50%</th>\n",
       "      <td>3.000000e+01</td>\n",
       "      <td>2.022000e+03</td>\n",
       "      <td>1.100000e+01</td>\n",
       "      <td>2.330000e+01</td>\n",
       "      <td>5.480000e+01</td>\n",
       "      <td>1.006400e+03</td>\n",
       "      <td>3.540000e+01</td>\n",
       "      <td>1.690000e+02</td>\n",
       "      <td>1.400000e+00</td>\n",
       "    </tr>\n",
       "    <tr>\n",
       "      <th>75%</th>\n",
       "      <td>4.500000e+01</td>\n",
       "      <td>2.023000e+03</td>\n",
       "      <td>1.700000e+01</td>\n",
       "      <td>2.730000e+01</td>\n",
       "      <td>6.500000e+01</td>\n",
       "      <td>1.013500e+03</td>\n",
       "      <td>4.270000e+01</td>\n",
       "      <td>2.570000e+02</td>\n",
       "      <td>2.200000e+00</td>\n",
       "    </tr>\n",
       "    <tr>\n",
       "      <th>max</th>\n",
       "      <td>8.700000e+01</td>\n",
       "      <td>2.024000e+03</td>\n",
       "      <td>2.200000e+01</td>\n",
       "      <td>3.720000e+01</td>\n",
       "      <td>9.750000e+01</td>\n",
       "      <td>1.023500e+03</td>\n",
       "      <td>6.700000e+01</td>\n",
       "      <td>3.590000e+02</td>\n",
       "      <td>1.010000e+01</td>\n",
       "    </tr>\n",
       "  </tbody>\n",
       "</table>\n",
       "</div>"
      ],
      "text/plain": [
       "          LapNumber          Year         Round       AirTemp      Humidity  \\\n",
       "count  2.353929e+07  2.353929e+07  2.353929e+07  2.353929e+07  2.353929e+07   \n",
       "mean   3.055403e+01  2.021315e+03  1.126047e+01  2.364593e+01  5.385058e+01   \n",
       "std    1.847454e+01  1.948417e+00  6.166656e+00  4.795678e+00  1.692486e+01   \n",
       "min    1.000000e+00  2.018000e+03  1.000000e+00  8.900000e+00  5.000000e+00   \n",
       "25%    1.500000e+01  2.020000e+03  6.000000e+00  2.050000e+01  4.100000e+01   \n",
       "50%    3.000000e+01  2.022000e+03  1.100000e+01  2.330000e+01  5.480000e+01   \n",
       "75%    4.500000e+01  2.023000e+03  1.700000e+01  2.730000e+01  6.500000e+01   \n",
       "max    8.700000e+01  2.024000e+03  2.200000e+01  3.720000e+01  9.750000e+01   \n",
       "\n",
       "           Pressure     TrackTemp  WindDirection     WindSpeed  \n",
       "count  2.353929e+07  2.353929e+07   2.353929e+07  2.353929e+07  \n",
       "mean   9.839310e+02  3.591327e+01   1.721162e+02  1.634438e+00  \n",
       "std    5.448797e+01  9.014776e+00   1.018911e+02  1.159598e+00  \n",
       "min    7.785000e+02  1.380000e+01   0.000000e+00  0.000000e+00  \n",
       "25%    9.836000e+02  2.940000e+01   9.400000e+01  8.000000e-01  \n",
       "50%    1.006400e+03  3.540000e+01   1.690000e+02  1.400000e+00  \n",
       "75%    1.013500e+03  4.270000e+01   2.570000e+02  2.200000e+00  \n",
       "max    1.023500e+03  6.700000e+01   3.590000e+02  1.010000e+01  "
      ]
     },
     "execution_count": 6,
     "metadata": {},
     "output_type": "execute_result"
    }
   ],
   "source": [
    "merged_data.describe()"
   ]
  },
  {
   "cell_type": "code",
   "execution_count": 8,
   "metadata": {},
   "outputs": [],
   "source": [
    "data = pd.read_csv('merged_lap_weather_data.csv')"
   ]
  },
  {
   "cell_type": "code",
   "execution_count": 17,
   "metadata": {},
   "outputs": [
    {
     "data": {
      "image/png": "[encoded data removed]",
      "text/plain": [
       "<Figure size 640x480 with 1 Axes>"
      ]
     },
     "metadata": {},
     "output_type": "display_data"
    }
   ],
   "source": [
    "sns.histplot(data['LapTime'], bins=50, kde=True)\n",
    "plt.title('Lap Time Distribution')\n",
    "plt.show()"
   ]
  }
 ],
 "metadata": {
  "kernelspec": {
   "display_name": "Python 3",
   "language": "python",
   "name": "python3"
  },
  "language_info": {
   "codemirror_mode": {
    "name": "ipython",
    "version": 3
   },
   "file_extension": ".py",
   "mimetype": "text/x-python",
   "name": "python",
   "nbconvert_exporter": "python",
   "pygments_lexer": "ipython3",
   "version": "3.12.5"
  }
 },
 "nbformat": 4,
 "nbformat_minor": 2
}
